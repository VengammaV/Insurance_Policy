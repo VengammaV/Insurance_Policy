{
 "cells": [
  {
   "cell_type": "code",
   "execution_count": 22,
   "id": "0cdf5900-f105-4ea8-bfc6-1d8820acb45b",
   "metadata": {},
   "outputs": [],
   "source": [
    "import pandas as pd\n",
    "import spacy\n",
    "from sklearn.ensemble import RandomForestClassifier\n",
    "from sklearn.pipeline import Pipeline\n",
    "from sklearn.metrics import classification_report\n",
    "from sklearn.model_selection import train_test_split\n",
    "from sklearn.linear_model import LogisticRegression\n",
    "from sklearn.feature_extraction.text import TfidfVectorizer\n",
    "import matplotlib.pyplot as plt\n",
    "import seaborn as sns\n",
    "from sklearn.metrics import confusion_matrix\n",
    "import numpy as np"
   ]
  },
  {
   "cell_type": "code",
   "execution_count": 2,
   "id": "4974cb65-396d-4cbc-b2e7-4c210b0a0a3c",
   "metadata": {},
   "outputs": [],
   "source": [
    "df = pd.read_excel(\"./Data/Sentiment_Analysis.xlsx\")"
   ]
  },
  {
   "cell_type": "code",
   "execution_count": 3,
   "id": "75060d16-f4f4-4dd9-815d-c73b432a1709",
   "metadata": {},
   "outputs": [
    {
     "data": {
      "text/html": [
       "<div>\n",
       "<style scoped>\n",
       "    .dataframe tbody tr th:only-of-type {\n",
       "        vertical-align: middle;\n",
       "    }\n",
       "\n",
       "    .dataframe tbody tr th {\n",
       "        vertical-align: top;\n",
       "    }\n",
       "\n",
       "    .dataframe thead th {\n",
       "        text-align: right;\n",
       "    }\n",
       "</style>\n",
       "<table border=\"1\" class=\"dataframe\">\n",
       "  <thead>\n",
       "    <tr style=\"text-align: right;\">\n",
       "      <th></th>\n",
       "      <th>Review_ID</th>\n",
       "      <th>Customer_ID</th>\n",
       "      <th>Review_text</th>\n",
       "      <th>Sentiment_label</th>\n",
       "      <th>Rating</th>\n",
       "      <th>Policy_type</th>\n",
       "    </tr>\n",
       "  </thead>\n",
       "  <tbody>\n",
       "    <tr>\n",
       "      <th>0</th>\n",
       "      <td>1001</td>\n",
       "      <td>C2345</td>\n",
       "      <td>I had a terrible experience filing my auto cla...</td>\n",
       "      <td>Negative</td>\n",
       "      <td>1</td>\n",
       "      <td>Claim</td>\n",
       "    </tr>\n",
       "    <tr>\n",
       "      <th>1</th>\n",
       "      <td>1002</td>\n",
       "      <td>C3421</td>\n",
       "      <td>The customer support team was very responsive ...</td>\n",
       "      <td>Positive</td>\n",
       "      <td>5</td>\n",
       "      <td>Support</td>\n",
       "    </tr>\n",
       "    <tr>\n",
       "      <th>2</th>\n",
       "      <td>1003</td>\n",
       "      <td>C1078</td>\n",
       "      <td>My health insurance policy processing was aver...</td>\n",
       "      <td>Neutral</td>\n",
       "      <td>3</td>\n",
       "      <td>Policy Purchase</td>\n",
       "    </tr>\n",
       "    <tr>\n",
       "      <th>3</th>\n",
       "      <td>1004</td>\n",
       "      <td>C4556</td>\n",
       "      <td>Very disappointed with how my home insurance c...</td>\n",
       "      <td>Negative</td>\n",
       "      <td>1</td>\n",
       "      <td>Claim</td>\n",
       "    </tr>\n",
       "    <tr>\n",
       "      <th>4</th>\n",
       "      <td>1005</td>\n",
       "      <td>C2213</td>\n",
       "      <td>The online portal for managing my policy is us...</td>\n",
       "      <td>Positive</td>\n",
       "      <td>5</td>\n",
       "      <td>Support</td>\n",
       "    </tr>\n",
       "  </tbody>\n",
       "</table>\n",
       "</div>"
      ],
      "text/plain": [
       "   Review_ID Customer_ID                                        Review_text  \\\n",
       "0       1001       C2345  I had a terrible experience filing my auto cla...   \n",
       "1       1002       C3421  The customer support team was very responsive ...   \n",
       "2       1003       C1078  My health insurance policy processing was aver...   \n",
       "3       1004       C4556  Very disappointed with how my home insurance c...   \n",
       "4       1005       C2213  The online portal for managing my policy is us...   \n",
       "\n",
       "  Sentiment_label  Rating      Policy_type  \n",
       "0        Negative       1            Claim  \n",
       "1        Positive       5          Support  \n",
       "2         Neutral       3  Policy Purchase  \n",
       "3        Negative       1            Claim  \n",
       "4        Positive       5          Support  "
      ]
     },
     "execution_count": 3,
     "metadata": {},
     "output_type": "execute_result"
    }
   ],
   "source": [
    "df.head()"
   ]
  },
  {
   "cell_type": "code",
   "execution_count": 4,
   "id": "5f7d737d-c490-4e50-9456-046eb9db91a6",
   "metadata": {},
   "outputs": [
    {
     "data": {
      "text/plain": [
       "(565, 6)"
      ]
     },
     "execution_count": 4,
     "metadata": {},
     "output_type": "execute_result"
    }
   ],
   "source": [
    "df.shape"
   ]
  },
  {
   "cell_type": "code",
   "execution_count": 5,
   "id": "8fdfa91f-07f7-49d3-ac36-b3044354b7d1",
   "metadata": {},
   "outputs": [
    {
     "name": "stdout",
     "output_type": "stream",
     "text": [
      "<class 'pandas.core.frame.DataFrame'>\n",
      "RangeIndex: 565 entries, 0 to 564\n",
      "Data columns (total 6 columns):\n",
      " #   Column           Non-Null Count  Dtype \n",
      "---  ------           --------------  ----- \n",
      " 0   Review_ID        565 non-null    int64 \n",
      " 1   Customer_ID      565 non-null    object\n",
      " 2   Review_text      565 non-null    object\n",
      " 3   Sentiment_label  565 non-null    object\n",
      " 4   Rating           565 non-null    int64 \n",
      " 5   Policy_type      565 non-null    object\n",
      "dtypes: int64(2), object(4)\n",
      "memory usage: 26.6+ KB\n"
     ]
    }
   ],
   "source": [
    "df.info()"
   ]
  },
  {
   "cell_type": "code",
   "execution_count": 6,
   "id": "085f11b5-7d46-4b75-95d0-d417a294cfa7",
   "metadata": {},
   "outputs": [
    {
     "data": {
      "text/plain": [
       "Sentiment_label\n",
       "Positive    233\n",
       "Negative    191\n",
       "Neutral     141\n",
       "Name: count, dtype: int64"
      ]
     },
     "execution_count": 6,
     "metadata": {},
     "output_type": "execute_result"
    }
   ],
   "source": [
    "df['Sentiment_label'].value_counts()"
   ]
  },
  {
   "cell_type": "code",
   "execution_count": 7,
   "id": "c8bf7489-a42e-4602-9a19-07114c864273",
   "metadata": {},
   "outputs": [],
   "source": [
    "# - From the above, we can see that almost the Sentiment(classes) occured equal number of times and balanced. \n",
    "# There is **no problem of class imbalance** and hence no need to apply any balancing techniques like SMOTE."
   ]
  },
  {
   "cell_type": "code",
   "execution_count": 8,
   "id": "d0183690-9443-47e3-94d5-8a4b38b86c71",
   "metadata": {},
   "outputs": [
    {
     "data": {
      "text/html": [
       "<div>\n",
       "<style scoped>\n",
       "    .dataframe tbody tr th:only-of-type {\n",
       "        vertical-align: middle;\n",
       "    }\n",
       "\n",
       "    .dataframe tbody tr th {\n",
       "        vertical-align: top;\n",
       "    }\n",
       "\n",
       "    .dataframe thead th {\n",
       "        text-align: right;\n",
       "    }\n",
       "</style>\n",
       "<table border=\"1\" class=\"dataframe\">\n",
       "  <thead>\n",
       "    <tr style=\"text-align: right;\">\n",
       "      <th></th>\n",
       "      <th>Review_ID</th>\n",
       "      <th>Customer_ID</th>\n",
       "      <th>Review_text</th>\n",
       "      <th>Sentiment_label</th>\n",
       "      <th>Rating</th>\n",
       "      <th>Policy_type</th>\n",
       "      <th>Sentiment_num</th>\n",
       "    </tr>\n",
       "  </thead>\n",
       "  <tbody>\n",
       "    <tr>\n",
       "      <th>0</th>\n",
       "      <td>1001</td>\n",
       "      <td>C2345</td>\n",
       "      <td>I had a terrible experience filing my auto cla...</td>\n",
       "      <td>Negative</td>\n",
       "      <td>1</td>\n",
       "      <td>Claim</td>\n",
       "      <td>0</td>\n",
       "    </tr>\n",
       "    <tr>\n",
       "      <th>1</th>\n",
       "      <td>1002</td>\n",
       "      <td>C3421</td>\n",
       "      <td>The customer support team was very responsive ...</td>\n",
       "      <td>Positive</td>\n",
       "      <td>5</td>\n",
       "      <td>Support</td>\n",
       "      <td>2</td>\n",
       "    </tr>\n",
       "    <tr>\n",
       "      <th>2</th>\n",
       "      <td>1003</td>\n",
       "      <td>C1078</td>\n",
       "      <td>My health insurance policy processing was aver...</td>\n",
       "      <td>Neutral</td>\n",
       "      <td>3</td>\n",
       "      <td>Policy Purchase</td>\n",
       "      <td>1</td>\n",
       "    </tr>\n",
       "    <tr>\n",
       "      <th>3</th>\n",
       "      <td>1004</td>\n",
       "      <td>C4556</td>\n",
       "      <td>Very disappointed with how my home insurance c...</td>\n",
       "      <td>Negative</td>\n",
       "      <td>1</td>\n",
       "      <td>Claim</td>\n",
       "      <td>0</td>\n",
       "    </tr>\n",
       "    <tr>\n",
       "      <th>4</th>\n",
       "      <td>1005</td>\n",
       "      <td>C2213</td>\n",
       "      <td>The online portal for managing my policy is us...</td>\n",
       "      <td>Positive</td>\n",
       "      <td>5</td>\n",
       "      <td>Support</td>\n",
       "      <td>2</td>\n",
       "    </tr>\n",
       "  </tbody>\n",
       "</table>\n",
       "</div>"
      ],
      "text/plain": [
       "   Review_ID Customer_ID                                        Review_text  \\\n",
       "0       1001       C2345  I had a terrible experience filing my auto cla...   \n",
       "1       1002       C3421  The customer support team was very responsive ...   \n",
       "2       1003       C1078  My health insurance policy processing was aver...   \n",
       "3       1004       C4556  Very disappointed with how my home insurance c...   \n",
       "4       1005       C2213  The online portal for managing my policy is us...   \n",
       "\n",
       "  Sentiment_label  Rating      Policy_type  Sentiment_num  \n",
       "0        Negative       1            Claim              0  \n",
       "1        Positive       5          Support              2  \n",
       "2         Neutral       3  Policy Purchase              1  \n",
       "3        Negative       1            Claim              0  \n",
       "4        Positive       5          Support              2  "
      ]
     },
     "execution_count": 8,
     "metadata": {},
     "output_type": "execute_result"
    }
   ],
   "source": [
    "#Add the new column \"Sentiment_label\" which gives a unique number to each of these Emotions\n",
    "\n",
    "df['Sentiment_num'] = df['Sentiment_label'].map({'Negative' : 0, 'Neutral': 1, 'Positive': 2})\n",
    "\n",
    "#checking the results \n",
    "df.head(5)"
   ]
  },
  {
   "cell_type": "markdown",
   "id": "6b29a00e-136f-4d44-a599-58a78493b0d2",
   "metadata": {},
   "source": [
    "# Data Preprocessing"
   ]
  },
  {
   "cell_type": "code",
   "execution_count": 9,
   "id": "bbae9556-74f3-4661-abc1-8c3e5dd7f9b9",
   "metadata": {},
   "outputs": [],
   "source": [
    "import spacy"
   ]
  },
  {
   "cell_type": "code",
   "execution_count": 10,
   "id": "be50960d-6820-4b5d-b5fb-eb74ced1075b",
   "metadata": {},
   "outputs": [],
   "source": [
    "import en_core_web_sm\n",
    "\n",
    "# load english language model and create nlp object from it\n",
    "nlp = spacy.load(\"en_core_web_sm\") \n",
    "\n",
    "#use this utility function to get the preprocessed text data\n",
    "def preprocess(text):\n",
    "    # remove stop words and lemmatize the text\n",
    "    doc = nlp(text)\n",
    "    filtered_tokens = []\n",
    "    for token in doc:\n",
    "        if token.is_stop or token.is_punct:\n",
    "            continue\n",
    "        filtered_tokens.append(token.lemma_)\n",
    "    \n",
    "    return \" \".join(filtered_tokens) "
   ]
  },
  {
   "cell_type": "code",
   "execution_count": 11,
   "id": "2334d86f-5e22-4782-82c3-4166d40e015b",
   "metadata": {},
   "outputs": [],
   "source": [
    "# create a new column \"preprocessed_comment\" and use the utility function above to get the clean data\n",
    "# this will take some time, please be patient\n",
    "df['preprocessed_review'] = df['Review_text'].apply(preprocess) "
   ]
  },
  {
   "cell_type": "code",
   "execution_count": 12,
   "id": "7eb0c9fb-4329-4134-8199-ca217f8437fc",
   "metadata": {},
   "outputs": [
    {
     "data": {
      "text/html": [
       "<div>\n",
       "<style scoped>\n",
       "    .dataframe tbody tr th:only-of-type {\n",
       "        vertical-align: middle;\n",
       "    }\n",
       "\n",
       "    .dataframe tbody tr th {\n",
       "        vertical-align: top;\n",
       "    }\n",
       "\n",
       "    .dataframe thead th {\n",
       "        text-align: right;\n",
       "    }\n",
       "</style>\n",
       "<table border=\"1\" class=\"dataframe\">\n",
       "  <thead>\n",
       "    <tr style=\"text-align: right;\">\n",
       "      <th></th>\n",
       "      <th>Review_ID</th>\n",
       "      <th>Customer_ID</th>\n",
       "      <th>Review_text</th>\n",
       "      <th>Sentiment_label</th>\n",
       "      <th>Rating</th>\n",
       "      <th>Policy_type</th>\n",
       "      <th>Sentiment_num</th>\n",
       "      <th>preprocessed_review</th>\n",
       "    </tr>\n",
       "  </thead>\n",
       "  <tbody>\n",
       "    <tr>\n",
       "      <th>0</th>\n",
       "      <td>1001</td>\n",
       "      <td>C2345</td>\n",
       "      <td>I had a terrible experience filing my auto cla...</td>\n",
       "      <td>Negative</td>\n",
       "      <td>1</td>\n",
       "      <td>Claim</td>\n",
       "      <td>0</td>\n",
       "      <td>terrible experience file auto claim take 3 wee...</td>\n",
       "    </tr>\n",
       "  </tbody>\n",
       "</table>\n",
       "</div>"
      ],
      "text/plain": [
       "   Review_ID Customer_ID                                        Review_text  \\\n",
       "0       1001       C2345  I had a terrible experience filing my auto cla...   \n",
       "\n",
       "  Sentiment_label  Rating Policy_type  Sentiment_num  \\\n",
       "0        Negative       1       Claim              0   \n",
       "\n",
       "                                 preprocessed_review  \n",
       "0  terrible experience file auto claim take 3 wee...  "
      ]
     },
     "execution_count": 12,
     "metadata": {},
     "output_type": "execute_result"
    }
   ],
   "source": [
    "df.head(1)"
   ]
  },
  {
   "cell_type": "markdown",
   "id": "81232b78-5506-4e1c-8c94-a9932ecb6aa0",
   "metadata": {},
   "source": [
    "# Build a Tfidf model with preprocessed customer review"
   ]
  },
  {
   "cell_type": "code",
   "execution_count": 13,
   "id": "18290aa7-bf39-4d4f-b2ba-4f1344d0c246",
   "metadata": {},
   "outputs": [],
   "source": [
    "#'train-test' splitting with test size of 20% with random state of 2022 and stratify sampling too\n",
    "#Note: Use the preprocessed_Comment\n",
    "X_train, X_test, y_train, y_test = train_test_split(\n",
    "    df.preprocessed_review, \n",
    "    df.Sentiment_num, \n",
    "    test_size=0.2, # 20% samples will go to test dataset\n",
    "    random_state=2022,\n",
    "    stratify=df.Sentiment_num\n",
    ")"
   ]
  },
  {
   "cell_type": "markdown",
   "id": "7ed80c30-13c8-4c91-9043-568739b2594a",
   "metadata": {},
   "source": [
    "1. using the sklearn pipeline module create a classification pipeline to classify the data.\n",
    "\n",
    "**Note:**\n",
    "- using **TF-IDF vectorizer** for pre-processing the text.\n",
    "- use **RandomForest** and **LogisticRegression** as the classifier.\n",
    "- print the classification report."
   ]
  },
  {
   "cell_type": "code",
   "execution_count": 14,
   "id": "8a2183c8-b4b4-45fd-9405-6b572e589173",
   "metadata": {},
   "outputs": [
    {
     "name": "stdout",
     "output_type": "stream",
     "text": [
      "              precision    recall  f1-score   support\n",
      "\n",
      "           0       0.97      0.87      0.92        38\n",
      "           1       0.93      0.89      0.91        28\n",
      "           2       0.85      0.94      0.89        47\n",
      "\n",
      "    accuracy                           0.90       113\n",
      "   macro avg       0.91      0.90      0.90       113\n",
      "weighted avg       0.91      0.90      0.90       113\n",
      "\n"
     ]
    }
   ],
   "source": [
    "#1. create a pipeline object\n",
    "clf = Pipeline([\n",
    "     ('vectorizer_tfidf',TfidfVectorizer()),      \n",
    "     ('Random Forest', RandomForestClassifier())         \n",
    "])\n",
    "\n",
    "#2. fit with X_train and y_train\n",
    "clf.fit(X_train, y_train)\n",
    "\n",
    "\n",
    "#3. get the predictions for X_test and store it in y_pred\n",
    "y_pred = clf.predict(X_test)\n",
    "\n",
    "\n",
    "#4. print the classfication report\n",
    "print(classification_report(y_test, y_pred))"
   ]
  },
  {
   "cell_type": "code",
   "execution_count": 15,
   "id": "5417fffa-344b-41e1-a4bc-2d54e70ec703",
   "metadata": {},
   "outputs": [
    {
     "name": "stdout",
     "output_type": "stream",
     "text": [
      "              precision    recall  f1-score   support\n",
      "\n",
      "           0       0.97      0.89      0.93        38\n",
      "           1       1.00      0.82      0.90        28\n",
      "           2       0.85      1.00      0.92        47\n",
      "\n",
      "    accuracy                           0.92       113\n",
      "   macro avg       0.94      0.91      0.92       113\n",
      "weighted avg       0.93      0.92      0.92       113\n",
      "\n"
     ]
    }
   ],
   "source": [
    "#1. create a pipeline object\n",
    "clf = Pipeline([\n",
    "     ('vectorizer_tfidf',TfidfVectorizer()),      \n",
    "     ('Multi NB', LogisticRegression())             \n",
    "])\n",
    "\n",
    "#2. fit with X_train and y_train\n",
    "clf.fit(X_train, y_train)\n",
    "\n",
    "\n",
    "#3. get the predictions for X_test and store it in y_pred\n",
    "y_pred = clf.predict(X_test)\n",
    "\n",
    "\n",
    "#4. print the classfication report\n",
    "print(classification_report(y_test, y_pred))\n"
   ]
  },
  {
   "cell_type": "markdown",
   "id": "fc9ba57b-4a9c-4d61-b6e8-7f0d897007a2",
   "metadata": {},
   "source": [
    "### Confusion Matrix - Tfidf - Logistic Regression"
   ]
  },
  {
   "cell_type": "code",
   "execution_count": 16,
   "id": "5575ae92-b827-4e06-b5c0-e4060406fc48",
   "metadata": {},
   "outputs": [
    {
     "data": {
      "image/png": "[encoded data removed]",
      "text/plain": [
       "<Figure size 800x600 with 2 Axes>"
      ]
     },
     "metadata": {},
     "output_type": "display_data"
    }
   ],
   "source": [
    "# Generate confusion matrix\n",
    "cm = confusion_matrix(y_test, y_pred, labels=clf.classes_)\n",
    "\n",
    "# Plot\n",
    "plt.figure(figsize=(8, 6))\n",
    "sns.heatmap(cm, annot=True, fmt='d', cmap='Blues',\n",
    "            xticklabels=clf.classes_, yticklabels=clf.classes_)\n",
    "plt.xlabel('Predicted')\n",
    "plt.ylabel('True')\n",
    "plt.title('Confusion Matrix - Random Forest (Tfidf)')\n",
    "plt.show()"
   ]
  },
  {
   "cell_type": "markdown",
   "id": "2ddd1cfb-455e-4435-9f7d-6d275dc77e1c",
   "metadata": {},
   "source": [
    "# BERT Word Embedding"
   ]
  },
  {
   "cell_type": "code",
   "execution_count": 38,
   "id": "a8baf87e-993f-4f79-ab0d-60980c9e8f0a",
   "metadata": {},
   "outputs": [],
   "source": [
    "from transformers import AutoTokenizer\n",
    "import torch\n",
    "\n",
    "tokenizer = AutoTokenizer.from_pretrained(\"bert-base-uncased\")\n",
    "\n",
    "# Tokenize all text entries\n",
    "inputs = tokenizer(\n",
    "    df['preprocessed_review'].tolist(),\n",
    "    padding=True,\n",
    "    truncation=True,\n",
    "    return_tensors=\"pt\"\n",
    ")\n"
   ]
  },
  {
   "cell_type": "code",
   "execution_count": 39,
   "id": "7b4e7445-5fd5-441e-bca2-a5942698f9e0",
   "metadata": {},
   "outputs": [],
   "source": [
    "labels = torch.tensor(df[\"Sentiment_num\"].tolist())"
   ]
  },
  {
   "cell_type": "code",
   "execution_count": 40,
   "id": "d8410b43-fb69-43c7-a221-9bf7355bcd40",
   "metadata": {},
   "outputs": [
    {
     "name": "stderr",
     "output_type": "stream",
     "text": [
      "Some weights of BertForSequenceClassification were not initialized from the model checkpoint at bert-base-uncased and are newly initialized: ['classifier.bias', 'classifier.weight']\n",
      "You should probably TRAIN this model on a down-stream task to be able to use it for predictions and inference.\n"
     ]
    }
   ],
   "source": [
    "from transformers import AutoModelForSequenceClassification\n",
    "\n",
    "model = AutoModelForSequenceClassification.from_pretrained(\"bert-base-uncased\", num_labels=3)"
   ]
  },
  {
   "cell_type": "code",
   "execution_count": 42,
   "id": "15927b2b-377f-40b9-8df0-9b8841c181ab",
   "metadata": {},
   "outputs": [
    {
     "name": "stdout",
     "output_type": "stream",
     "text": [
      "Epoch 1, Loss: 0.3631\n",
      "Epoch 2, Loss: 0.1928\n",
      "Epoch 3, Loss: 0.0700\n"
     ]
    }
   ],
   "source": [
    "from torch.utils.data import TensorDataset, DataLoader\n",
    "from torch.optim import AdamW\n",
    "\n",
    "# Combine input tensors into a dataset\n",
    "dataset = TensorDataset(inputs[\"input_ids\"], inputs[\"attention_mask\"], labels)\n",
    "loader = DataLoader(dataset, batch_size=3, shuffle=True)\n",
    "\n",
    "optimizer = AdamW(model.parameters(), lr=5e-5)\n",
    "\n",
    "model.train()\n",
    "for epoch in range(3):\n",
    "    for batch in loader:\n",
    "        input_ids, attention_mask, label_batch = batch\n",
    "\n",
    "        outputs = model(input_ids=input_ids, attention_mask=attention_mask, labels=label_batch)\n",
    "        loss = outputs.loss\n",
    "        loss.backward()\n",
    "        optimizer.step()\n",
    "        optimizer.zero_grad()\n",
    "    print(f\"Epoch {epoch+1}, Loss: {loss.item():.4f}\")"
   ]
  },
  {
   "cell_type": "code",
   "execution_count": 43,
   "id": "5561a941-9579-4292-afc5-878a63a321aa",
   "metadata": {},
   "outputs": [
    {
     "name": "stdout",
     "output_type": "stream",
     "text": [
      "tensor([0, 1])\n"
     ]
    }
   ],
   "source": [
    "model.eval()\n",
    "with torch.no_grad():\n",
    "    test_texts = [\"I hate this\", \"Best purchase ever\"]\n",
    "    test_inputs = tokenizer(test_texts, padding=True, truncation=True, return_tensors=\"pt\")\n",
    "    outputs = model(**test_inputs)\n",
    "    preds = torch.argmax(outputs.logits, dim=1)\n",
    "    print(preds)  # Output: tensor([0, 1])"
   ]
  },
  {
   "cell_type": "code",
   "execution_count": 45,
   "id": "dd7c9e2e-7906-4df7-ae01-662714af8586",
   "metadata": {},
   "outputs": [],
   "source": [
    "# Accuracy\n",
    "\n",
    "from sklearn.model_selection import train_test_split\n",
    "\n",
    "# Split the dataset into train and test sets\n",
    "train_texts, test_texts, train_labels, test_labels = train_test_split(df['preprocessed_review'], df['Sentiment_num'], test_size=0.2)\n"
   ]
  },
  {
   "cell_type": "code",
   "execution_count": 47,
   "id": "23a04b5f-8900-45d1-b1bb-878ffe915671",
   "metadata": {},
   "outputs": [],
   "source": [
    "# Tokenize test data\n",
    "test_inputs = tokenizer(test_texts.tolist(), padding=True, truncation=True, return_tensors=\"pt\")\n",
    "\n",
    "# Convert labels to tensor\n",
    "test_labels = torch.tensor(test_labels.tolist(), dtype=torch.long)\n"
   ]
  },
  {
   "cell_type": "code",
   "execution_count": 48,
   "id": "1db0d8c8-96f6-4c4e-8dd6-d5917c29f723",
   "metadata": {},
   "outputs": [
    {
     "name": "stdout",
     "output_type": "stream",
     "text": [
      "Accuracy: 0.9735\n"
     ]
    }
   ],
   "source": [
    "from sklearn.metrics import accuracy_score\n",
    "\n",
    "# Set the model to evaluation mode\n",
    "model.eval()\n",
    "\n",
    "# Get predictions for the test set\n",
    "with torch.no_grad():\n",
    "    outputs = model(**test_inputs)\n",
    "    logits = outputs.logits\n",
    "    predictions = torch.argmax(logits, dim=1)\n",
    "\n",
    "# Calculate accuracy\n",
    "accuracy = accuracy_score(test_labels, predictions)\n",
    "print(f\"Accuracy: {accuracy:.4f}\")\n"
   ]
  },
  {
   "cell_type": "code",
   "execution_count": 49,
   "id": "84ed03b0-a863-4a34-a790-6c6fe33785a8",
   "metadata": {},
   "outputs": [
    {
     "name": "stdout",
     "output_type": "stream",
     "text": [
      "              precision    recall  f1-score   support\n",
      "\n",
      "    Negative       1.00      0.97      0.99        37\n",
      "     Neutral       0.91      1.00      0.96        32\n",
      "    Positive       1.00      0.95      0.98        44\n",
      "\n",
      "    accuracy                           0.97       113\n",
      "   macro avg       0.97      0.98      0.97       113\n",
      "weighted avg       0.98      0.97      0.97       113\n",
      "\n"
     ]
    }
   ],
   "source": [
    "print(classification_report(test_labels, predictions, target_names=[\"Negative\", \"Neutral\", \"Positive\"]))"
   ]
  },
  {
   "cell_type": "code",
   "execution_count": 44,
   "id": "17514865-e613-4841-bfa4-c95aa92e8c90",
   "metadata": {},
   "outputs": [
    {
     "data": {
      "text/plain": [
       "('saved_bert_model/tokenizer_config.json',\n",
       " 'saved_bert_model/special_tokens_map.json',\n",
       " 'saved_bert_model/vocab.txt',\n",
       " 'saved_bert_model/added_tokens.json',\n",
       " 'saved_bert_model/tokenizer.json')"
      ]
     },
     "execution_count": 44,
     "metadata": {},
     "output_type": "execute_result"
    }
   ],
   "source": [
    "# Save model and tokenizer\n",
    "model.save_pretrained(\"saved_bert_model/\")\n",
    "tokenizer.save_pretrained(\"saved_bert_model/\")"
   ]
  },
  {
   "cell_type": "code",
   "execution_count": null,
   "id": "2e862526-503e-4b07-b1c8-e5d610fafc55",
   "metadata": {},
   "outputs": [],
   "source": []
  }
 ],
 "metadata": {
  "kernelspec": {
   "display_name": "Python 3 (ipykernel)",
   "language": "python",
   "name": "python3"
  },
  "language_info": {
   "codemirror_mode": {
    "name": "ipython",
    "version": 3
   },
   "file_extension": ".py",
   "mimetype": "text/x-python",
   "name": "python",
   "nbconvert_exporter": "python",
   "pygments_lexer": "ipython3",
   "version": "3.11.11"
  }
 },
 "nbformat": 4,
 "nbformat_minor": 5
}
